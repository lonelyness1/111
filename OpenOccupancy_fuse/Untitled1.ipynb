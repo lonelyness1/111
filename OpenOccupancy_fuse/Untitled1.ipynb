{
 "cells": [
  {
   "cell_type": "code",
   "execution_count": 1,
   "id": "067018f3-1ffd-4ddf-b8ae-d7667023f9ab",
   "metadata": {},
   "outputs": [
    {
     "name": "stdout",
     "output_type": "stream",
     "text": [
      "Saved 1406 samples to data/nuscenes/nuscenes_infos_train_20.pkl\n"
     ]
    }
   ],
   "source": [
    "import pickle\n",
    "\n",
    "# 原始 pkl\n",
    "src_pkl = \"data/nuscenes/nuscenes_infos_train.pkl\"\n",
    "dst_pkl = \"data/nuscenes/nuscenes_infos_train_20.pkl\"\n",
    "\n",
    "with open(src_pkl, 'rb') as f:\n",
    "    data = pickle.load(f)\n",
    "\n",
    "# 取前 20%\n",
    "subset_len = int(len(data['infos']) * 0.05)\n",
    "data['infos'] = data['infos'][:subset_len]\n",
    "\n",
    "with open(dst_pkl, 'wb') as f:\n",
    "    pickle.dump(data, f)\n",
    "\n",
    "print(f\"Saved {subset_len} samples to {dst_pkl}\")\n"
   ]
  },
  {
   "cell_type": "code",
   "execution_count": null,
   "id": "4644c1e2-2255-488c-81eb-1a54dca48097",
   "metadata": {},
   "outputs": [],
   "source": []
  }
 ],
 "metadata": {
  "kernelspec": {
   "display_name": "Python 3 (ipykernel)",
   "language": "python",
   "name": "python3"
  },
  "language_info": {
   "codemirror_mode": {
    "name": "ipython",
    "version": 3
   },
   "file_extension": ".py",
   "mimetype": "text/x-python",
   "name": "python",
   "nbconvert_exporter": "python",
   "pygments_lexer": "ipython3",
   "version": "3.8.10"
  }
 },
 "nbformat": 4,
 "nbformat_minor": 5
}
